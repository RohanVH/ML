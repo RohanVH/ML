{
 "cells": [
  {
   "cell_type": "code",
   "execution_count": 2,
   "id": "907fde03",
   "metadata": {},
   "outputs": [
    {
     "name": "stdout",
     "output_type": "stream",
     "text": [
      "20 is greater than a\n"
     ]
    }
   ],
   "source": [
    "\n",
    "a=10\n",
    "b=20\n",
    "if(a>b):\n",
    "    print(f\"{a} is greater than b\")\n",
    "else:\n",
    "    print(f\"{b} is greater than a\")"
   ]
  },
  {
   "cell_type": "code",
   "execution_count": 17,
   "id": "d89feef0",
   "metadata": {},
   "outputs": [
    {
     "name": "stdout",
     "output_type": "stream",
     "text": [
      "BMI:35.0\n",
      "OBESE\n"
     ]
    }
   ],
   "source": [
    "weight=35\n",
    "h=180\n",
    "height=h/100\n",
    "bmi=weight/height*height\n",
    "print(f\"BMI:{bmi}\")\n",
    "if(bmi>0 and bmi<18.5):\n",
    "    print(\"Underweight\")\n",
    "elif(bmi>=18.5 and bmi<24.9):\n",
    "    print(\"Normal\")\n",
    "elif(bmi>=25 and bmi<=30):\n",
    "    print(\"Overweight\")\n",
    "else:\n",
    "    print(\"OBESE\")\n",
    "    "
   ]
  },
  {
   "cell_type": "code",
   "execution_count": 24,
   "id": "e5249b2d",
   "metadata": {},
   "outputs": [
    {
     "name": "stdout",
     "output_type": "stream",
     "text": [
      "BMI:10.802469135802468\n",
      "Underweight\n"
     ]
    }
   ],
   "source": [
    "def bmi(w,h):\n",
    "    bmi=weight/(height*height)\n",
    "    print(f\"BMI:{bmi}\")\n",
    "    if(bmi>0 and bmi<18.5):\n",
    "        print(\"Underweight\")\n",
    "    elif(bmi>=18.5 and bmi<24.9):\n",
    "        print(\"Normal\")\n",
    "    elif(bmi>=25 and bmi<=30):\n",
    "        print(\"Overweight\")\n",
    "    else:\n",
    "        print(\"OBESE\")\n",
    "  \t\n",
    "    \n",
    "bmi(64,180)\n",
    "    "
   ]
  },
  {
   "cell_type": "code",
   "execution_count": null,
   "id": "be989f67",
   "metadata": {},
   "outputs": [],
   "source": []
  },
  {
   "cell_type": "code",
   "execution_count": null,
   "id": "cffdc5e0",
   "metadata": {},
   "outputs": [],
   "source": []
  }
 ],
 "metadata": {
  "kernelspec": {
   "display_name": "Python 3 (ipykernel)",
   "language": "python",
   "name": "python3"
  },
  "language_info": {
   "codemirror_mode": {
    "name": "ipython",
    "version": 3
   },
   "file_extension": ".py",
   "mimetype": "text/x-python",
   "name": "python",
   "nbconvert_exporter": "python",
   "pygments_lexer": "ipython3",
   "version": "3.11.2"
  }
 },
 "nbformat": 4,
 "nbformat_minor": 5
}
