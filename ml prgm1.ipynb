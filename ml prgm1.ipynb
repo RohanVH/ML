{
 "cells": [
  {
   "cell_type": "code",
   "execution_count": 46,
   "id": "2c1d5a6b",
   "metadata": {},
   "outputs": [
    {
     "name": "stdout",
     "output_type": "stream",
     "text": [
      "3\n",
      "a_type= <class 'list'>\n",
      "arr_type= <class 'numpy.ndarray'>\n",
      "arr= [[[ 1  3  4  6  7  5 10 12 15 18 21  2 22 33 11 10]]]\n"
     ]
    }
   ],
   "source": [
    "import numpy as np\n",
    "\n",
    "a=[[[1,3,4,6,7,5,10,12,15,18,21,2,22,33,11,10]]]\n",
    "print(np.ndim(a))\n",
    "print(f\"a_type= {type(a)}\")\n",
    "arr=np.array(a)\n",
    "print(f\"arr_type= {type(arr)}\")\n",
    "print(f\"arr= {arr}\")"
   ]
  },
  {
   "cell_type": "code",
   "execution_count": 47,
   "id": "99a8e117",
   "metadata": {},
   "outputs": [
    {
     "name": "stdout",
     "output_type": "stream",
     "text": [
      "[[ 1  3  4  6]\n",
      " [ 7  5 10 12]\n",
      " [15 18 21  2]\n",
      " [22 33 11 10]]\n"
     ]
    }
   ],
   "source": [
    "print(arr.reshape(4,4))"
   ]
  },
  {
   "cell_type": "code",
   "execution_count": 52,
   "id": "5768b622",
   "metadata": {},
   "outputs": [
    {
     "data": {
      "text/plain": [
       "(1, 1, 16)"
      ]
     },
     "execution_count": 52,
     "metadata": {},
     "output_type": "execute_result"
    }
   ],
   "source": [
    "np.shape(arr)"
   ]
  },
  {
   "cell_type": "code",
   "execution_count": 57,
   "id": "ebcf080f",
   "metadata": {},
   "outputs": [
    {
     "data": {
      "text/plain": [
       "array([ 1,  6, 11, 16])"
      ]
     },
     "execution_count": 57,
     "metadata": {},
     "output_type": "execute_result"
    }
   ],
   "source": [
    "ar=np.arange(1,20,5)\n",
    "ar"
   ]
  },
  {
   "cell_type": "code",
   "execution_count": 62,
   "id": "4b7c5e7e",
   "metadata": {},
   "outputs": [
    {
     "data": {
      "text/plain": [
       "array([1.        , 1.44444444, 1.88888889, 2.33333333, 2.77777778,\n",
       "       3.22222222, 3.66666667, 4.11111111, 4.55555556, 5.        ])"
      ]
     },
     "execution_count": 62,
     "metadata": {},
     "output_type": "execute_result"
    }
   ],
   "source": [
    "a = np.linspace(1,5,10)\n",
    "a"
   ]
  },
  {
   "cell_type": "code",
   "execution_count": null,
   "id": "ade784d4",
   "metadata": {},
   "outputs": [],
   "source": []
  }
 ],
 "metadata": {
  "kernelspec": {
   "display_name": "Python 3 (ipykernel)",
   "language": "python",
   "name": "python3"
  },
  "language_info": {
   "codemirror_mode": {
    "name": "ipython",
    "version": 3
   },
   "file_extension": ".py",
   "mimetype": "text/x-python",
   "name": "python",
   "nbconvert_exporter": "python",
   "pygments_lexer": "ipython3",
   "version": "3.11.2"
  }
 },
 "nbformat": 4,
 "nbformat_minor": 5
}
